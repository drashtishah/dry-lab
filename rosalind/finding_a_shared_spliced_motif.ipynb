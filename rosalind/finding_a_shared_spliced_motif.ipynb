{
 "cells": [
  {
   "cell_type": "markdown",
   "id": "9ae506b5-cc58-4f72-b9fc-a66620f42985",
   "metadata": {},
   "source": [
    "# Finding a Shared Spliced Motif\n",
    "\n",
    "Link: https://rosalind.info/problems/lcsq/"
   ]
  },
  {
   "cell_type": "code",
   "execution_count": 47,
   "id": "a3482212-e785-4a90-b5fa-401e96f88e62",
   "metadata": {},
   "outputs": [],
   "source": [
    "//:dep polars = { version = \"0.32.0\", features = [\"describe\", \"lazy\", \"ndarray\", \"object\", \"dtype-struct\", \"concat_str\", \"mode\", \"polars-lazy\"] }\n",
    ":dep ndarray = { version = \"0.15.6\" }"
   ]
  },
  {
   "cell_type": "code",
   "execution_count": 95,
   "id": "585ab351-45e4-4da6-b8ba-e862ec7ac5ee",
   "metadata": {},
   "outputs": [],
   "source": [
    "use std::fs::File;\n",
    "use std::io::{BufReader, BufRead};\n",
    "use std::collections::HashMap;\n",
    "use ndarray::prelude::*\n",
    "use std::cmp;\n",
    "//use polars::prelude::*;"
   ]
  },
  {
   "cell_type": "code",
   "execution_count": 96,
   "id": "63740b5c-5e3f-4ee7-b1c0-38f3b2a09aa8",
   "metadata": {},
   "outputs": [],
   "source": [
    "let mut a = Array::<f64, _>::zeros((3, 2, 4));"
   ]
  },
  {
   "cell_type": "code",
   "execution_count": 97,
   "id": "e3a5e93d-4bfe-41dd-beb6-be822cd687e1",
   "metadata": {},
   "outputs": [
    {
     "data": {
      "text/plain": [
       "()"
      ]
     },
     "execution_count": 97,
     "metadata": {},
     "output_type": "execute_result"
    }
   ],
   "source": [
    "a[(0,1, 0)] = 12.0"
   ]
  },
  {
   "cell_type": "code",
   "execution_count": 98,
   "id": "8f1e87c0-2760-47c8-b341-36360cca2449",
   "metadata": {},
   "outputs": [
    {
     "data": {
      "text/plain": [
       "[[[0.0, 0.0, 0.0, 0.0],\n",
       "  [12.0, 0.0, 0.0, 0.0]],\n",
       "\n",
       " [[0.0, 0.0, 0.0, 0.0],\n",
       "  [0.0, 0.0, 0.0, 0.0]],\n",
       "\n",
       " [[0.0, 0.0, 0.0, 0.0],\n",
       "  [0.0, 0.0, 0.0, 0.0]]], shape=[3, 2, 4], strides=[8, 4, 1], layout=Cc (0x5), const ndim=3"
      ]
     },
     "execution_count": 98,
     "metadata": {},
     "output_type": "execute_result"
    }
   ],
   "source": [
    "a"
   ]
  },
  {
   "cell_type": "code",
   "execution_count": 99,
   "id": "647ec843-b3f3-4368-8e93-56ba47891b31",
   "metadata": {},
   "outputs": [],
   "source": [
    "#[derive(Debug, Clone)] \n",
    "struct DNASeq {\n",
    "    seq: String,\n",
    "}\n",
    "\n",
    "impl DNASeq {\n",
    "    \n",
    "    fn len(&self) -> usize {\n",
    "        self.seq.len()\n",
    "    }\n",
    "    \n",
    "    fn push_str(&mut self, s: &str) {\n",
    "        self.seq.push_str(s);\n",
    "    }\n",
    "    \n",
    "    fn subsequence_matrix(&self, other: &Self) {\n",
    "        let mut seq_1 = self.seq.clone();\n",
    "        seq_1.insert(0, '0');\n",
    "        let mut seq_2 = other.seq.clone();\n",
    "        seq_2.insert(0, '0');\n",
    "        let vec_for_array_initialization = vec![0; seq_1.len() * seq_2.len()];\n",
    "        let mut matrix = Array::from_shape_vec((seq_1.len(), seq_2.len()), vec_for_array_initialization).unwrap();\n",
    "        for (i, x) in seq_1.chars().enumerate() {\n",
    "            for (j, y) in seq_2.chars().enumerate() {\n",
    "                if (x != '0') & (y != '0') {\n",
    "                    match x {\n",
    "                        y => matrix[(i, j)] = matrix[(i-1, j-1)] + 1,\n",
    "                        _ => matrix[(i, j)] = cmp::max(matrix[(i-1, j)], matrix[(i, j-1)]),\n",
    "                    }\n",
    "                }\n",
    "            }\n",
    "        }\n",
    "       println!(\"{:?}\", matrix);  \n",
    "    }\n",
    "    \n",
    "}"
   ]
  },
  {
   "cell_type": "code",
   "execution_count": 100,
   "id": "f979a42a-1c9e-458d-8c4d-f79ae899dc19",
   "metadata": {},
   "outputs": [],
   "source": [
    "fn read_fasta(file_path: &str) -> HashMap<String, DNASeq> {\n",
    "    let mut data = HashMap::new();\n",
    "    let file = File::open(file_path).expect(\"Invalid filepath\");\n",
    "    let reader = BufReader::new(file);\n",
    "    \n",
    "    let mut seq_id = String::new();\n",
    "    for line in reader.lines() {\n",
    "        let line = line.unwrap();\n",
    "        if line.starts_with('>') {\n",
    "            seq_id = line.trim_start_matches('>').to_string();\n",
    "        } else {\n",
    "            data.entry(seq_id.clone()).or_insert(DNASeq {seq: \"\".to_string() }).push_str(&line);\n",
    "        }\n",
    "    }\n",
    "    \n",
    "    data\n",
    "}"
   ]
  },
  {
   "cell_type": "code",
   "execution_count": 101,
   "id": "5abc0b69-4a01-470f-8413-d82e28d21967",
   "metadata": {},
   "outputs": [],
   "source": [
    "let data: HashMap<String, DNASeq> = read_fasta(\"data/rosalind_lcsq.txt\");\n",
    "let data: Vec<DNASeq> = data.into_values().collect();"
   ]
  },
  {
   "cell_type": "code",
   "execution_count": 102,
   "id": "e0b6959e-47a2-4a00-af57-33db5876d209",
   "metadata": {},
   "outputs": [
    {
     "name": "stdout",
     "output_type": "stream",
     "text": [
      "[[0, 0, 0, 0, 0, 0, 0, 0, 0, 0],\n",
      " [0, 1, 1, 1, 1, 1, 1, 1, 1, 1],\n",
      " [0, 1, 2, 2, 2, 2, 2, 2, 2, 2],\n",
      " [0, 1, 2, 3, 3, 3, 3, 3, 3, 3],\n",
      " [0, 1, 2, 3, 4, 4, 4, 4, 4, 4],\n",
      " [0, 1, 2, 3, 4, 5, 5, 5, 5, 5],\n",
      " [0, 1, 2, 3, 4, 5, 6, 6, 6, 6],\n",
      " [0, 1, 2, 3, 4, 5, 6, 7, 7, 7],\n",
      " [0, 1, 2, 3, 4, 5, 6, 7, 8, 8]], shape=[9, 10], strides=[10, 1], layout=Cc (0x5), const ndim=2\n"
     ]
    },
    {
     "data": {
      "text/plain": [
       "()"
      ]
     },
     "execution_count": 102,
     "metadata": {},
     "output_type": "execute_result"
    }
   ],
   "source": [
    "data[0].subsequence_matrix(&data[1])"
   ]
  },
  {
   "cell_type": "code",
   "execution_count": null,
   "id": "3b92e14e-ec0a-422f-8f5c-6847c7d5baec",
   "metadata": {},
   "outputs": [],
   "source": []
  }
 ],
 "metadata": {
  "kernelspec": {
   "display_name": "Rust",
   "language": "rust",
   "name": "rust"
  },
  "language_info": {
   "codemirror_mode": "rust",
   "file_extension": ".rs",
   "mimetype": "text/rust",
   "name": "Rust",
   "pygment_lexer": "rust",
   "version": ""
  }
 },
 "nbformat": 4,
 "nbformat_minor": 5
}
