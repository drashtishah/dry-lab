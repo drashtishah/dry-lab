{
 "cells": [
  {
   "cell_type": "markdown",
   "id": "5d8a6ba9-2e13-4df4-b4d7-5026fd22c0f9",
   "metadata": {},
   "source": [
    "# Open Reading Frames\n",
    "\n",
    "Link: https://rosalind.info/problems/orf/"
   ]
  },
  {
   "cell_type": "code",
   "execution_count": 2,
   "id": "6874b3c6-c15e-4cbd-a00c-e9e8622e8b48",
   "metadata": {},
   "outputs": [],
   "source": [
    "use std::fs::File;\n",
    "use std::io::{BufReader, BufRead};\n",
    "use std::collections::HashMap;"
   ]
  },
  {
   "cell_type": "code",
   "execution_count": 5,
   "id": "a54ee309-8a91-4a64-aa0b-0501a2f4bc1e",
   "metadata": {},
   "outputs": [],
   "source": [
    "fn read_codon_table(file_path: &str) -> HashMap<String, String> {\n",
    "    let mut codon_to_protein_map = HashMap::new();\n",
    "    let file = File::open(file_path).expect(\"Invalid filepath\");\n",
    "    let reader = BufReader::new(file);\n",
    "    \n",
    "    for line in reader.lines() {\n",
    "        let line = line.unwrap();\n",
    "        let items: Vec<&str> = line.split_whitespace().collect();\n",
    "        let (codon, protein) = (items[0].to_string(), items[1].to_string());\n",
    "        codon_to_protein_map.insert(codon, protein);\n",
    "    }\n",
    "    codon_to_protein_map\n",
    "}"
   ]
  },
  {
   "cell_type": "code",
   "execution_count": 17,
   "id": "d0afa275-1997-4005-b073-a2637079f577",
   "metadata": {},
   "outputs": [],
   "source": [
    "#[derive(Debug)] \n",
    "pub struct RNASeq {\n",
    "    seq: String,\n",
    "}\n",
    "\n",
    "#[derive(Debug)] \n",
    "pub struct Protein {\n",
    "    seq: String,\n",
    "}\n",
    "\n",
    "#[derive(Debug)] \n",
    "pub struct DNASeq {\n",
    "    seq: String,\n",
    "}\n",
    "\n",
    "impl DNASeq {\n",
    "    \n",
    "    pub fn push_str(&mut self, s: &str) {\n",
    "        self.seq.push_str(s);\n",
    "    }\n",
    "    \n",
    "    pub fn reverse(&self) -> DNASeq {\n",
    "        let seq = self.seq.chars().rev().collect();\n",
    "        DNASeq { seq }\n",
    "    }\n",
    "    \n",
    "    pub fn complement(&self) -> DNASeq {\n",
    "        let seq = self.seq.chars()\n",
    "            .map(|x| match x {\n",
    "                'A' => 'T',\n",
    "                'T' => 'A',\n",
    "                'G' => 'C',\n",
    "                'C' => 'G',\n",
    "                _ => x,\n",
    "            })\n",
    "            .collect();\n",
    "        DNASeq { seq }\n",
    "    }\n",
    "    \n",
    "    // Define a method to transcribe DNA into RNA\n",
    "    pub fn transcribe(&self) -> RNASeq {\n",
    "        // Replace every 'T' with 'U' in the sequence\n",
    "        let seq = self.seq.chars()\n",
    "            // closures are like lambda functions\n",
    "            .map(|x| match x {\n",
    "                'T' => 'U',\n",
    "                _ => x,\n",
    "            })\n",
    "            .collect(); // This transforms an interator into a collection\n",
    "\n",
    "        // Return a new RNA sequence\n",
    "        RNASeq { seq }\n",
    "    }\n",
    "    \n",
    "}\n",
    "\n",
    "\n",
    "impl RNASeq {\n",
    "    \n",
    "    pub fn shift(&self) -> Vec<RNASeq> {\n",
    "        vec![RNASeq{seq: self.seq.to_string()}, RNASeq{seq: self.seq[1..].to_string()}, RNASeq{seq: self.seq[2..].to_string()}]\n",
    "    }\n",
    "    \n",
    "    pub fn translate(&self) -> Protein {\n",
    "        let codon_to_protein_map = read_codon_table(\"data/rna_codon_table.txt\");\n",
    "        let seq_vector: Vec<char> = self.seq.chars().collect();\n",
    "        let mut protein = \"\".to_string();\n",
    "        for x in seq_vector.chunks(3) {\n",
    "            let codon = x.iter().collect::<String>();\n",
    "            let amino_acid = codon_to_protein_map.get(&codon).unwrap();\n",
    "            if amino_acid == \"*\" {\n",
    "                break;\n",
    "            } else {\n",
    "                protein += amino_acid;\n",
    "            }\n",
    "        }\n",
    "        Protein{ seq:protein }\n",
    "    }\n",
    "}"
   ]
  },
  {
   "cell_type": "code",
   "execution_count": 9,
   "id": "c16ccdcf-fdc4-4538-ab39-ee6c90c8a86a",
   "metadata": {},
   "outputs": [],
   "source": [
    "fn read_fasta(file_path: &str) -> HashMap<String, DNASeq> {\n",
    "    let mut data = HashMap::new();\n",
    "    let file = File::open(file_path).expect(\"Invalid filepath\");\n",
    "    let reader = BufReader::new(file);\n",
    "    \n",
    "    let mut seq_id = String::new();\n",
    "    for line in reader.lines() {\n",
    "        let line = line.unwrap();\n",
    "        if line.starts_with('>') {\n",
    "            seq_id = line.trim_start_matches('>').to_string();\n",
    "        } else {\n",
    "            data.entry(seq_id.clone()).or_insert(DNASeq {seq: \"\".to_string() }).push_str(&line);\n",
    "        }\n",
    "    }\n",
    "    \n",
    "    data\n",
    "}"
   ]
  },
  {
   "cell_type": "code",
   "execution_count": 42,
   "id": "b10777ff-312c-44c7-8d4d-13f976b07ce4",
   "metadata": {},
   "outputs": [
    {
     "name": "stdout",
     "output_type": "stream",
     "text": [
      "\"MPNTGTFRVAARGRGAACPSPGARTDD\"\n"
     ]
    },
    {
     "data": {
      "text/plain": [
       "()"
      ]
     },
     "execution_count": 42,
     "metadata": {},
     "output_type": "execute_result"
    }
   ],
   "source": [
    "let data: HashMap<String, DNASeq> = read_fasta(\"data/rosalind_orf.txt\");\n",
    "\n",
    "for (_, forward) in data.iter() {\n",
    "    \n",
    "    let reverse = forward.reverse().complement();\n",
    "    let forward_rna = forward.transcribe();\n",
    "    let reverse_rna = reverse.transcribe();\n",
    "    \n",
    "    for r in forward_rna.shift().iter() {\n",
    "        let protein = r.translate();\n",
    "        let indices: Vec<usize> = protein.seq.match_indices(\"M\").map(|(i, _)| i).collect();\n",
    "        for orf in indices {\n",
    "            println!(\"{:?}\", &protein.seq[orf..]);\n",
    "        }\n",
    "        \n",
    "    }\n",
    "    for r in reverse_rna.shift().iter() {\n",
    "        let protein = r.translate();\n",
    "        let indices: Vec<usize> = protein.seq.match_indices(\"M\").map(|(i, _)| i).collect();\n",
    "        for orf in indices {\n",
    "            println!(\"{:?}\", &protein.seq[orf..]);\n",
    "        }\n",
    "    }\n",
    "}"
   ]
  },
  {
   "cell_type": "code",
   "execution_count": null,
   "id": "0d4b16eb-5139-424c-bf1d-0cc74f19eea6",
   "metadata": {},
   "outputs": [],
   "source": []
  }
 ],
 "metadata": {
  "kernelspec": {
   "display_name": "Rust",
   "language": "rust",
   "name": "rust"
  },
  "language_info": {
   "codemirror_mode": "rust",
   "file_extension": ".rs",
   "mimetype": "text/rust",
   "name": "Rust",
   "pygment_lexer": "rust",
   "version": ""
  }
 },
 "nbformat": 4,
 "nbformat_minor": 5
}
