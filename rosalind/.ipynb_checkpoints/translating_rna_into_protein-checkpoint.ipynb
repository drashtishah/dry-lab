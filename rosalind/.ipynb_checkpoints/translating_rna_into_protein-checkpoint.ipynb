{
 "cells": [
  {
   "cell_type": "markdown",
   "id": "0e5dbf95-45ac-4793-9eb7-df36ed141578",
   "metadata": {},
   "source": [
    "# Translating RNA into Protein \n",
    "\n",
    "Link: https://rosalind.info/problems/prot/"
   ]
  },
  {
   "cell_type": "code",
   "execution_count": 3,
   "id": "7fb1dc1e-d44e-4000-975f-c5db3bb6bbcf",
   "metadata": {},
   "outputs": [],
   "source": [
    "use std::fs::File;\n",
    "use std::io::{BufReader, BufRead};\n",
    "use std::collections::HashMap;"
   ]
  },
  {
   "cell_type": "code",
   "execution_count": 49,
   "id": "c9cd5742-5f83-4d55-9b00-bf776227b37f",
   "metadata": {},
   "outputs": [],
   "source": [
    "fn read_codon_table(file_path: &str) -> HashMap<String, String> {\n",
    "    let mut codon_to_protein_map = HashMap::new();\n",
    "    let file = File::open(file_path).expect(\"Invalid filepath\");\n",
    "    let reader = BufReader::new(file);\n",
    "    \n",
    "    for line in reader.lines() {\n",
    "        let line = line.unwrap();\n",
    "        let items: Vec<&str> = line.split_whitespace().collect();\n",
    "        let (codon, protein) = (items[0].to_string(), items[1].to_string());\n",
    "        codon_to_protein_map.insert(codon, protein);\n",
    "    }\n",
    "    codon_to_protein_map\n",
    "}"
   ]
  },
  {
   "cell_type": "code",
   "execution_count": 50,
   "id": "a6e65ffe-391c-4918-9a64-98aeb1663127",
   "metadata": {},
   "outputs": [
    {
     "data": {
      "text/plain": [
       "{\"CCU\": \"P\", \"AUA\": \"I\", \"ACC\": \"T\", \"GUU\": \"V\", \"UGU\": \"C\", \"UGG\": \"W\", \"CCG\": \"P\", \"CUG\": \"L\", \"CGG\": \"R\", \"ACA\": \"T\", \"UUU\": \"F\", \"AUG\": \"M\", \"CGU\": \"R\", \"UGC\": \"C\", \"AUU\": \"I\", \"AGA\": \"R\", \"GUG\": \"V\", \"GUC\": \"V\", \"UAU\": \"Y\", \"GGC\": \"G\", \"UAA\": \"*\", \"GCG\": \"A\", \"UUC\": \"F\", \"GAG\": \"E\", \"UCA\": \"S\", \"CUA\": \"L\", \"CCA\": \"P\", \"UCU\": \"S\", \"AAU\": \"N\", \"UUA\": \"L\", \"UCG\": \"S\", \"GCU\": \"A\", \"CGC\": \"R\", \"CGA\": \"R\", \"ACG\": \"T\", \"AAA\": \"K\", \"GGA\": \"G\", \"UCC\": \"S\", \"CUU\": \"L\", \"GUA\": \"V\", \"AGU\": \"S\", \"AGC\": \"S\", \"GAC\": \"D\", \"GGU\": \"G\", \"CCC\": \"P\", \"CUC\": \"L\", \"GAU\": \"D\", \"UAC\": \"Y\", \"AAG\": \"K\", \"CAU\": \"H\", \"GAA\": \"E\", \"UAG\": \"*\", \"GCA\": \"A\", \"CAA\": \"Q\", \"UUG\": \"L\", \"ACU\": \"T\", \"GCC\": \"A\", \"CAC\": \"H\", \"UGA\": \"*\", \"AGG\": \"R\", \"AAC\": \"N\", \"GGG\": \"G\", \"AUC\": \"I\", \"CAG\": \"Q\"}"
      ]
     },
     "execution_count": 50,
     "metadata": {},
     "output_type": "execute_result"
    }
   ],
   "source": [
    "read_codon_table(\"data/rna_codon_table.txt\")"
   ]
  },
  {
   "cell_type": "code",
   "execution_count": null,
   "id": "312dc2a8-ec19-47c7-8f89-ebf1b9ff1560",
   "metadata": {},
   "outputs": [],
   "source": [
    "#[derive(Debug)] \n",
    "pub struct RNASeq {\n",
    "    seq: String,\n",
    "}\n",
    "\n",
    "#[derive(Debug)] \n",
    "pub struct Protein {\n",
    "    seq: String,\n",
    "}\n",
    "\n",
    "impl RNASeq {\n",
    "    // Define a method to transcribe DNA into RNA\n",
    "    pub fn translate(&self) -> Protein {\n",
    "       \n",
    "    }\n",
    "}"
   ]
  }
 ],
 "metadata": {
  "kernelspec": {
   "display_name": "Rust",
   "language": "rust",
   "name": "rust"
  },
  "language_info": {
   "codemirror_mode": "rust",
   "file_extension": ".rs",
   "mimetype": "text/rust",
   "name": "Rust",
   "pygment_lexer": "rust",
   "version": ""
  }
 },
 "nbformat": 4,
 "nbformat_minor": 5
}
