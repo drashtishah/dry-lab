{
 "cells": [
  {
   "cell_type": "markdown",
   "id": "d6f85bce-c9dd-436d-acc1-a9e05d2d1d7f",
   "metadata": {},
   "source": [
    "# Transitions and Transversions\n",
    "\n",
    "Link: https://rosalind.info/problems/tran/"
   ]
  },
  {
   "cell_type": "code",
   "execution_count": 8,
   "id": "e78ac2cb-104a-4cde-abfd-dfd8bdb08265",
   "metadata": {},
   "outputs": [],
   "source": [
    "use std::fs::File;\n",
    "use std::io::{BufReader, BufRead};\n",
    "use std::collections::{HashMap, HashSet};"
   ]
  },
  {
   "cell_type": "code",
   "execution_count": 9,
   "id": "0f9a67d7-8115-4119-9c61-97e65124f7bd",
   "metadata": {},
   "outputs": [],
   "source": [
    "#[derive(Debug)] \n",
    "struct DNASeq {\n",
    "    seq: String,\n",
    "}\n",
    "\n",
    "enum Mutation {\n",
    "    Transition,\n",
    "    Transversion\n",
    "}\n",
    "\n",
    "impl DNASeq {\n",
    "    \n",
    "    fn equal_length(&self, other: &Self) -> bool {\n",
    "        self.seq.len() == other.seq.len()\n",
    "    }\n",
    "    \n",
    "    fn push_str(&mut self, s: &str) {\n",
    "        self.seq.push_str(s);\n",
    "    }\n",
    "    \n",
    "    fn mutation_type(base_change: [char; 2]) -> Option<Mutation> {\n",
    "        let mut ordered_bases = base_change;\n",
    "        ordered_bases.sort();\n",
    "        let mutation_type = match ordered_bases {\n",
    "                ['A', 'G'] => Some(Mutation::Transition),\n",
    "                ['C', 'T'] => Some(Mutation::Transition),\n",
    "                ['A', 'C'] => Some(Mutation::Transversion),\n",
    "                ['C', 'G'] => Some(Mutation::Transversion),\n",
    "                ['A', 'T'] => Some(Mutation::Transversion),\n",
    "                ['G', 'T'] => Some(Mutation::Transversion),\n",
    "                _ => None,\n",
    "            };\n",
    "        mutation_type\n",
    "    }\n",
    "    \n",
    "    fn transition_to_transversion_ratio(&self, other: &Self) -> Option<f64> {\n",
    "        if self.equal_length(other) {\n",
    "            let mut transitions = 0.0;\n",
    "            let mut transversions = 0.0;\n",
    "            let zipped = self.seq.chars().zip(other.seq.chars());\n",
    "            for (x, y) in zipped {\n",
    "                if x != y {\n",
    "                    match Self::mutation_type([x, y]) {\n",
    "                        Some(Mutation::Transition) => transitions += 1.0,\n",
    "                        Some(Mutation::Transversion) => transversions += 1.0,\n",
    "                        None => continue\n",
    "                    }\n",
    "                }\n",
    "            }\n",
    "        Some(transitions/transversions)\n",
    "        } else {\n",
    "            return None;\n",
    "        }\n",
    "    }\n",
    "    \n",
    "    fn hamming_distance(&self, other: &Self) -> Option<i32> {\n",
    "        if self.equal_length(other) {\n",
    "            let mut distance = 0;\n",
    "            let zipped = self.seq.chars().zip(other.seq.chars());\n",
    "            for (x, y) in zipped {\n",
    "                if x != y {\n",
    "                    distance += 1;\n",
    "                }\n",
    "            }\n",
    "        Some(distance)\n",
    "        } else {\n",
    "            return None;\n",
    "        }\n",
    "    }\n",
    "    \n",
    "}"
   ]
  },
  {
   "cell_type": "code",
   "execution_count": 10,
   "id": "aa7851c1-9d4d-4a78-b82b-fe04f8fd062a",
   "metadata": {},
   "outputs": [],
   "source": [
    "fn read_fasta(file_path: &str) -> HashMap<String, DNASeq> {\n",
    "    let mut data = HashMap::new();\n",
    "    let file = File::open(file_path).expect(\"Invalid filepath\");\n",
    "    let reader = BufReader::new(file);\n",
    "    \n",
    "    let mut seq_id = String::new();\n",
    "    for line in reader.lines() {\n",
    "        let line = line.unwrap();\n",
    "        if line.starts_with('>') {\n",
    "            seq_id = line.trim_start_matches('>').to_string();\n",
    "        } else {\n",
    "            data.entry(seq_id.clone()).or_insert(DNASeq {seq: \"\".to_string() }).push_str(&line);\n",
    "        }\n",
    "    }\n",
    "    \n",
    "    data\n",
    "}"
   ]
  },
  {
   "cell_type": "code",
   "execution_count": 11,
   "id": "ab0d7051-b3b8-400b-84a6-4d8097eae742",
   "metadata": {},
   "outputs": [],
   "source": [
    "fn read_fasta(file_path: &str) -> HashMap<String, DNASeq> {\n",
    "    let mut data = HashMap::new();\n",
    "    let file = File::open(file_path).expect(\"Invalid filepath\");\n",
    "    let reader = BufReader::new(file);\n",
    "    \n",
    "    let mut seq_id = String::new();\n",
    "    for line in reader.lines() {\n",
    "        let line = line.unwrap();\n",
    "        if line.starts_with('>') {\n",
    "            seq_id = line.trim_start_matches('>').to_string();\n",
    "        } else {\n",
    "            data.entry(seq_id.clone()).or_insert(DNASeq {seq: \"\".to_string() }).push_str(&line);\n",
    "        }\n",
    "    }\n",
    "    \n",
    "    data\n",
    "}"
   ]
  },
  {
   "cell_type": "code",
   "execution_count": 15,
   "id": "c82d03f8-1448-47d7-84db-d1f7371dfb58",
   "metadata": {},
   "outputs": [],
   "source": [
    "let data: HashMap<String, DNASeq> = read_fasta(\"data/rosalind_tran.txt\");\n",
    "let data: Vec<DNASeq> = data.into_values().collect();"
   ]
  },
  {
   "cell_type": "code",
   "execution_count": 16,
   "id": "ca0704c6-4413-4059-9815-2fd5b94e031e",
   "metadata": {},
   "outputs": [
    {
     "data": {
      "text/plain": [
       "Some(1.9646017699115044)"
      ]
     },
     "execution_count": 16,
     "metadata": {},
     "output_type": "execute_result"
    }
   ],
   "source": [
    "data[0].transition_to_transversion_ratio(&data[1])"
   ]
  },
  {
   "cell_type": "code",
   "execution_count": null,
   "id": "098b2767-ac12-4246-a4c1-2cd62fd488a1",
   "metadata": {},
   "outputs": [],
   "source": []
  }
 ],
 "metadata": {
  "kernelspec": {
   "display_name": "Rust",
   "language": "rust",
   "name": "rust"
  },
  "language_info": {
   "codemirror_mode": "rust",
   "file_extension": ".rs",
   "mimetype": "text/rust",
   "name": "Rust",
   "pygment_lexer": "rust",
   "version": ""
  }
 },
 "nbformat": 4,
 "nbformat_minor": 5
}
