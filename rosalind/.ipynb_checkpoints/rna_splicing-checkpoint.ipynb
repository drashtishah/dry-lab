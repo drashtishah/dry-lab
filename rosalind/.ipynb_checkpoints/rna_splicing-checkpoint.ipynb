{
 "cells": [
  {
   "cell_type": "markdown",
   "id": "abc05d39-952c-41d1-be15-743ac4f1739a",
   "metadata": {},
   "source": [
    "# RNA Splicing\n",
    "\n",
    "Link: https://rosalind.info/problems/splc/"
   ]
  },
  {
   "cell_type": "code",
   "execution_count": 100,
   "id": "702d741e-0866-4529-b08b-4654ed8901b8",
   "metadata": {},
   "outputs": [],
   "source": [
    "use std::fs::File;\n",
    "use std::io::{BufReader, BufRead};\n",
    "use std::collections::HashMap;"
   ]
  },
  {
   "cell_type": "code",
   "execution_count": 101,
   "id": "9e95c7fb-69c9-4358-9a5f-f59ac19a0920",
   "metadata": {},
   "outputs": [],
   "source": [
    "fn read_codon_table(file_path: &str) -> HashMap<String, String> {\n",
    "    let mut codon_to_protein_map = HashMap::new();\n",
    "    let file = File::open(file_path).expect(\"Invalid filepath\");\n",
    "    let reader = BufReader::new(file);\n",
    "    \n",
    "    for line in reader.lines() {\n",
    "        let line = line.unwrap();\n",
    "        let items: Vec<&str> = line.split_whitespace().collect();\n",
    "        let (codon, protein) = (items[0].to_string(), items[1].to_string());\n",
    "        codon_to_protein_map.insert(codon, protein);\n",
    "    }\n",
    "    codon_to_protein_map\n",
    "}"
   ]
  },
  {
   "cell_type": "code",
   "execution_count": 102,
   "id": "4d5a84d0-09c3-4de4-a062-86cdeafd744e",
   "metadata": {},
   "outputs": [],
   "source": [
    "#[derive(Debug)] \n",
    "pub struct RNASeq {\n",
    "    seq: String,\n",
    "}\n",
    "\n",
    "#[derive(Debug)] \n",
    "pub struct Protein {\n",
    "    seq: String,\n",
    "}\n",
    "\n",
    "#[derive(Debug)] \n",
    "pub struct DNASeq {\n",
    "    seq: String,\n",
    "}\n",
    "\n",
    "impl DNASeq {\n",
    "    // Define a method to transcribe DNA into RNA\n",
    "    pub fn transcribe(&self) -> RNASeq {\n",
    "        // Replace every 'T' with 'U' in the sequence\n",
    "        let seq = self.seq.chars()\n",
    "            // closures are like lambda functions\n",
    "            .map(|x| match x {\n",
    "                'T' => 'U',\n",
    "                _ => x,\n",
    "            })\n",
    "            .collect(); // This transforms an interator into a collection\n",
    "\n",
    "        // Return a new RNA sequence\n",
    "        RNASeq { seq }\n",
    "    }\n",
    "    \n",
    "    fn splice(&mut self, introns:Vec<String>) -> () {\n",
    "        for intron in introns.iter() {\n",
    "            self.seq = self.seq.replace(intron, \"\");\n",
    "        }\n",
    "    }\n",
    "    \n",
    "}\n",
    "\n",
    "\n",
    "impl RNASeq {\n",
    "    \n",
    "    pub fn translate(&self) -> Protein {\n",
    "        let codon_to_protein_map = read_codon_table(\"data/rna_codon_table.txt\");\n",
    "        let seq_vector: Vec<char> = self.seq.chars().collect();\n",
    "        let mut protein = \"\".to_string();\n",
    "        for x in seq_vector.chunks(3) {\n",
    "            let codon = x.iter().collect::<String>();\n",
    "            let amino_acid = codon_to_protein_map.get(&codon).unwrap();\n",
    "            if amino_acid == \"*\" {\n",
    "                break;\n",
    "            } else {\n",
    "                protein += amino_acid;\n",
    "            }\n",
    "        }\n",
    "        Protein{ seq:protein }\n",
    "    }\n",
    "}"
   ]
  },
  {
   "cell_type": "code",
   "execution_count": 103,
   "id": "63282f95-5d3c-407a-a65c-035e6701d61a",
   "metadata": {},
   "outputs": [],
   "source": [
    "fn read_fasta(file_path: &str) -> (DNASeq, Vec<String>) {\n",
    "    let mut data = HashMap::new();\n",
    "    let file = File::open(file_path).expect(\"Invalid filepath\");\n",
    "    let reader = BufReader::new(file);\n",
    "    let mut seq_id_list = vec![];\n",
    "    let mut seq_id = String::new();\n",
    "    for line in reader.lines() {\n",
    "        let line = line.unwrap();\n",
    "        if line.starts_with('>') {\n",
    "            seq_id = line.trim_start_matches('>').to_string();\n",
    "            seq_id_list.push(seq_id.clone());\n",
    "        } else {\n",
    "            data.entry(seq_id.clone()).or_insert(String::new()).push_str(&line);\n",
    "        }\n",
    "    }\n",
    "    let (_, first_seq) = data.remove_entry(&seq_id_list[0]).unwrap();\n",
    "    let mut introns = vec![];\n",
    "    for intron in data.values() {\n",
    "        introns.push(intron.to_string());\n",
    "    }\n",
    "    (DNASeq{seq: first_seq}, introns)\n",
    "}"
   ]
  },
  {
   "cell_type": "code",
   "execution_count": 107,
   "id": "e537d0a8-e305-4170-999e-e1f0765150c6",
   "metadata": {},
   "outputs": [],
   "source": [
    "let (mut seq, introns) = read_fasta(\"data/rosalind_splc.txt\");"
   ]
  },
  {
   "cell_type": "code",
   "execution_count": 108,
   "id": "fb95e496-12e6-46e5-91e7-22445a3a25d0",
   "metadata": {},
   "outputs": [
    {
     "data": {
      "text/plain": [
       "()"
      ]
     },
     "execution_count": 108,
     "metadata": {},
     "output_type": "execute_result"
    }
   ],
   "source": [
    "seq.splice(introns)"
   ]
  },
  {
   "cell_type": "code",
   "execution_count": 109,
   "id": "4de5aa5f-d5b2-4cb6-8a8d-1f3015581e5f",
   "metadata": {},
   "outputs": [
    {
     "data": {
      "text/plain": [
       "Protein { seq: \"MPRLDEINCLSMIKTSTPITLRSRPSPVKVLEPNLSCVWSTLVVSPARIGTDTRRNYPVFTRFWPLILGLENRDNHLRPLQNSLGARGLSAAHQETPGFFSHRALSGWKATHSQSELAKLDADIQALLRWVRLAQDQMAVLGWTIREVTLTLAAMNKHVKETTARGFSGVTRPDFRRLKVRSSENEWMLKV\" }"
      ]
     },
     "execution_count": 109,
     "metadata": {},
     "output_type": "execute_result"
    }
   ],
   "source": [
    "seq.transcribe().translate()"
   ]
  }
 ],
 "metadata": {
  "kernelspec": {
   "display_name": "Rust",
   "language": "rust",
   "name": "rust"
  },
  "language_info": {
   "codemirror_mode": "rust",
   "file_extension": ".rs",
   "mimetype": "text/rust",
   "name": "Rust",
   "pygment_lexer": "rust",
   "version": ""
  }
 },
 "nbformat": 4,
 "nbformat_minor": 5
}
