{
 "cells": [
  {
   "cell_type": "markdown",
   "id": "1a108ea7-3721-4b62-9026-4da225ca3b8e",
   "metadata": {},
   "source": [
    "# Counting DNA Nucleotides\n",
    "\n",
    "### Example Application\n",
    "To get GC content of a sequence, we need to count DNA nucleotides. GC content can affect the sequence's stability, melting temperature, and hybridization.\n",
    "\n",
    "Link: https://rosalind.info/problems/dna/"
   ]
  },
  {
   "cell_type": "code",
   "execution_count": 3,
   "id": "5aeb42a0-72b1-46a9-a7fa-fdc53814989c",
   "metadata": {},
   "outputs": [],
   "source": [
    "use std::collections::HashMap;"
   ]
  },
  {
   "cell_type": "code",
   "execution_count": 42,
   "id": "fb4295a9-348b-4959-afa9-dca24231be0e",
   "metadata": {},
   "outputs": [],
   "source": [
    "fn count_things_in_sequence(sequence: &str, things: Vec<char>) -> HashMap<char, u32> {\n",
    "    let mut map = HashMap::new();\n",
    "    for character in sequence.chars() {\n",
    "        if things.contains(&character) {\n",
    "            // entry returns the value in key, value pair is key exists\n",
    "            // count is a mutable reference\n",
    "            let count = map.entry(character).or_insert(0);\n",
    "            // so we need to dereference it\n",
    "            *count += 1;\n",
    "        }\n",
    "    }\n",
    "    map\n",
    "}"
   ]
  },
  {
   "cell_type": "markdown",
   "id": "d8eef8b8-6b28-4df7-be82-15ae7693abba",
   "metadata": {},
   "source": [
    "## Test"
   ]
  },
  {
   "cell_type": "code",
   "execution_count": 45,
   "id": "2f696f73-88e5-4cf5-8afa-37b4a8fbca97",
   "metadata": {},
   "outputs": [
    {
     "data": {
      "text/plain": [
       "{'A': 232, 'C': 230, 'G': 210, 'T': 209}"
      ]
     },
     "execution_count": 45,
     "metadata": {},
     "output_type": "execute_result"
    }
   ],
   "source": [
    "let sequence = \"CCCTATAGTGCCGTTTAGGGTGTCAGAACGGGTTCATGTGGCCCTTCATTGCACCCTAGTCCCCAATACACTATTCCACGTGAGTAAAAACTAGTCAAACTAGCCTGGCTGGACGACACCTATATTAGGTGAGGACTTCAATAGGATGCAGAGCTTCTCCTTCACCAGAACATACATTCGAATCCAGAACACAGCTACGGATGTCGCAGCTATACTGCACTCCTTTTATCCGTTATTTCGATAGCTACCTAACCTGTCATATCACAGCGCTGGCTTGCGTGAGAGGAGGTAGTCTATTGTCAGAAAAAACTGCATGCTGGCTACAAGAGCGACGTCATTACACCGTAAAGGGGAAATGCAGGTGCGATGGCAGACTTTTAGCTCAATCCCCAGAGGCCATACAAATTCTAGTGAATGGCTGTGCCGAAATAATGGAGTCACGATGTCAAGCCCACTATGATTTCCGGTTCTGCGAAGGTGCGAAGGCTTTCTGACGTTAGATCCAACCCTAACCAGATCAACACCAGAGTGCATGATTGAACAAAACCCCAGTGCGTGGGCCTGTAATGGTTGGCAAATCCTGAAGGCTGGCTTTTTTGGTCTAGCTTTCAACGGGCAGAAAATATGATGCCTTCCCCGCGCAGGATGTAACCGACGAGATCCTAAGGCAATCGTCAGTACATGACACGAGCATCTCCGCCCACTATGTCGCGTTAGGGTGTCCAGGACGTTACTGCAAAGCTAGTAACACGCTTGAGCCAGCAATTTCCCCCGAGCGTTATAAATGCGCCACGGCAGTCACAGGACTTCCGGTGGACGATGTCTAGCCGCATGCTAGTACAAGGTACTTCGTCCGTCCTCGGCCGATACTCACAAGCCGT\";\n",
    "let things = vec!['A', 'C', 'G', 'T'];\n",
    "\n",
    "count_things_in_sequence(sequence, things)"
   ]
  }
 ],
 "metadata": {
  "kernelspec": {
   "display_name": "Rust",
   "language": "rust",
   "name": "rust"
  },
  "language_info": {
   "codemirror_mode": "rust",
   "file_extension": ".rs",
   "mimetype": "text/rust",
   "name": "Rust",
   "pygment_lexer": "rust",
   "version": ""
  }
 },
 "nbformat": 4,
 "nbformat_minor": 5
}
