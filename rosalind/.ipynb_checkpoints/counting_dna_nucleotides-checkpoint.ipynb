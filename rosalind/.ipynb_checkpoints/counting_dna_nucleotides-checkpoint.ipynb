{
 "cells": [
  {
   "cell_type": "markdown",
   "id": "1a108ea7-3721-4b62-9026-4da225ca3b8e",
   "metadata": {},
   "source": [
    "# Counting DNA Nucleotides\n",
    "Link: https://rosalind.info/problems/dna/"
   ]
  },
  {
   "cell_type": "code",
   "execution_count": 3,
   "id": "fb4295a9-348b-4959-afa9-dca24231be0e",
   "metadata": {},
   "outputs": [
    {
     "name": "stdout",
     "output_type": "stream",
     "text": [
      "Hi\n"
     ]
    },
    {
     "data": {
      "text/plain": [
       "()"
      ]
     },
     "execution_count": 3,
     "metadata": {},
     "output_type": "execute_result"
    }
   ],
   "source": [
    "println!(\"{}\", \"Hi\")"
   ]
  },
  {
   "cell_type": "code",
   "execution_count": null,
   "id": "f3440ce8-83b2-47a1-af7d-89c884c36a8a",
   "metadata": {},
   "outputs": [],
   "source": []
  }
 ],
 "metadata": {
  "kernelspec": {
   "display_name": "Rust",
   "language": "rust",
   "name": "rust"
  },
  "language_info": {
   "codemirror_mode": "rust",
   "file_extension": ".rs",
   "mimetype": "text/rust",
   "name": "Rust",
   "pygment_lexer": "rust",
   "version": ""
  }
 },
 "nbformat": 4,
 "nbformat_minor": 5
}
