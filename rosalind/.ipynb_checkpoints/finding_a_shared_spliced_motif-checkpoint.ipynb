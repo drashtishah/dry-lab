{
 "cells": [
  {
   "cell_type": "markdown",
   "id": "9ae506b5-cc58-4f72-b9fc-a66620f42985",
   "metadata": {},
   "source": [
    "# Finding a Shared Spliced Motif\n",
    "\n",
    "Link: https://rosalind.info/problems/lcsq/"
   ]
  },
  {
   "cell_type": "code",
   "execution_count": 3,
   "id": "a3482212-e785-4a90-b5fa-401e96f88e62",
   "metadata": {},
   "outputs": [],
   "source": [
    ":dep ndarray = { version = \"0.15.6\" }"
   ]
  },
  {
   "cell_type": "code",
   "execution_count": 4,
   "id": "585ab351-45e4-4da6-b8ba-e862ec7ac5ee",
   "metadata": {},
   "outputs": [],
   "source": [
    "use std::fs::File;\n",
    "use std::io::{BufReader, BufRead};\n",
    "use std::collections::HashMap;\n",
    "use ndarray::prelude::*"
   ]
  },
  {
   "cell_type": "code",
   "execution_count": 33,
   "id": "647ec843-b3f3-4368-8e93-56ba47891b31",
   "metadata": {},
   "outputs": [],
   "source": [
    "#[derive(Debug, Clone)] \n",
    "struct DNASeq {\n",
    "    seq: String,\n",
    "}\n",
    "\n",
    "#[derive(Debug, Clone)] \n",
    "struct Trace {\n",
    "    value: i32,\n",
    "    bases: (char, char),\n",
    "    from: Option<Box<Trace>>,\n",
    "}\n",
    "\n",
    "impl Trace {\n",
    "    \n",
    "    fn new(value: i32, bases: (char, char), from: Option<Box<Trace>>) -> Trace {\n",
    "        Trace {value, bases, from}\n",
    "    }\n",
    "    \n",
    "    fn get_value(&self) -> i32 {\n",
    "        self.value\n",
    "    }\n",
    "    \n",
    "    fn get_from(&self) -> Option<Box<Trace>> {\n",
    "        self.from.clone()\n",
    "    }\n",
    "    \n",
    "    fn get_bases(&self) -> (char, char) {\n",
    "        self.bases\n",
    "    }\n",
    "\n",
    "}\n",
    "\n",
    "impl DNASeq {\n",
    "    \n",
    "    fn len(&self) -> usize {\n",
    "        self.seq.len()\n",
    "    }\n",
    "    \n",
    "    fn push_str(&mut self, s: &str) {\n",
    "        self.seq.push_str(s);\n",
    "    }\n",
    "    \n",
    "    fn prepend_str(&mut self, s: &str) {\n",
    "        self.seq.insert_str(0, s);\n",
    "    }\n",
    "    \n",
    "    fn longest_subsequence(&self, other: &Self) -> Self {\n",
    "        let matrix = self.subsequence_matrix(other);\n",
    "        let last = self.last_element(other, matrix);\n",
    "        let subsequence = Self::traceback(last);\n",
    "        subsequence\n",
    "    }\n",
    "    \n",
    "    fn traceback(last_element: Box<Trace>) -> Self {\n",
    "        let mut subsequence = Self{ seq: \"\".to_string() };\n",
    "        let mut trace_object = last_element;\n",
    "        let (base_1, base_2) = trace_object.get_bases();\n",
    "        if base_1 == base_2 {\n",
    "            subsequence.prepend_str(&base_1.to_string());\n",
    "        }\n",
    "        while Option::is_some(&trace_object.get_from()) {\n",
    "            trace_object = trace_object.get_from().unwrap();\n",
    "            let (base_1, base_2) = trace_object.get_bases();\n",
    "            if (base_1 == base_2) & (base_1 != '0') {\n",
    "                subsequence.prepend_str(&base_1.to_string());\n",
    "            }\n",
    "        }\n",
    "        subsequence\n",
    "    }\n",
    "    \n",
    "    fn last_element(&self, other: &Self, matrix: Array2<Trace>) -> Box<Trace> {\n",
    "        Box::new(matrix[(self.len(), other.len())].clone())\n",
    "    }\n",
    "    \n",
    "    fn subsequence_matrix(&self, other: &Self) -> Array2<Trace> {\n",
    "        let mut seq_1 = self.seq.clone();\n",
    "        seq_1.insert(0, '0');\n",
    "        let mut seq_2 = other.seq.clone();\n",
    "        seq_2.insert(0, '0');\n",
    "        let start = Trace {value: 0, bases: ('0', '0'), from: None};\n",
    "        let vec_for_array_initialization = vec![start; seq_1.len() * seq_2.len()];\n",
    "        let mut matrix = Array::from_shape_vec((seq_1.len(), seq_2.len()), vec_for_array_initialization).unwrap();\n",
    "        for (i, x) in seq_1.chars().enumerate() {\n",
    "            for (j, y) in seq_2.chars().enumerate() {\n",
    "                if (x != '0') & (y != '0') {\n",
    "                    if x == y {\n",
    "                        let trace_object = Trace::new(matrix[(i-1, j-1)].get_value()+1, (x, y), Some(Box::new(matrix[(i-1, j-1)].clone())));\n",
    "                        matrix[(i, j)] = trace_object;\n",
    "                    } else {\n",
    "                        if matrix[(i-1, j)].get_value() > matrix[(i, j-1)].get_value() {\n",
    "                            let trace_object = Trace::new(matrix[(i-1, j)].get_value(), (x, y), Some(Box::new(matrix[(i-1, j)].clone())));\n",
    "                            matrix[(i, j)] = trace_object;\n",
    "                        } else {\n",
    "                            let trace_object = Trace::new(matrix[(i, j-1)].get_value(), (x, y), Some(Box::new(matrix[(i, j-1)].clone())));\n",
    "                            matrix[(i, j)] = trace_object;\n",
    "                        }\n",
    "                    }\n",
    "                }\n",
    "            }\n",
    "        }\n",
    "       matrix \n",
    "    }\n",
    "    \n",
    "}"
   ]
  },
  {
   "cell_type": "code",
   "execution_count": 34,
   "id": "f979a42a-1c9e-458d-8c4d-f79ae899dc19",
   "metadata": {},
   "outputs": [],
   "source": [
    "fn read_fasta(file_path: &str) -> HashMap<String, DNASeq> {\n",
    "    let mut data = HashMap::new();\n",
    "    let file = File::open(file_path).expect(\"Invalid filepath\");\n",
    "    let reader = BufReader::new(file);\n",
    "    \n",
    "    let mut seq_id = String::new();\n",
    "    for line in reader.lines() {\n",
    "        let line = line.unwrap();\n",
    "        if line.starts_with('>') {\n",
    "            seq_id = line.trim_start_matches('>').to_string();\n",
    "        } else {\n",
    "            data.entry(seq_id.clone()).or_insert(DNASeq {seq: \"\".to_string() }).push_str(&line);\n",
    "        }\n",
    "    }\n",
    "    \n",
    "    data\n",
    "}"
   ]
  },
  {
   "cell_type": "code",
   "execution_count": 37,
   "id": "5abc0b69-4a01-470f-8413-d82e28d21967",
   "metadata": {},
   "outputs": [],
   "source": [
    "let data: HashMap<String, DNASeq> = read_fasta(\"data/rosalind_lcsq.txt\");\n",
    "let data: Vec<DNASeq> = data.into_values().collect();"
   ]
  },
  {
   "cell_type": "code",
   "execution_count": 38,
   "id": "e0b6959e-47a2-4a00-af57-33db5876d209",
   "metadata": {},
   "outputs": [
    {
     "data": {
      "text/plain": [
       "DNASeq { seq: \"ATCAGGATCGGTTTAGACGTGGACGTGTTGGCATAGTTCACGGCCTCCGCCCCGTTCGTTCCCGGCGGTCAAATAGTTCTCTGAGTGAGAGAAAGACTCCCACCATGCGTCCTGGGGTGCAAGGTGAGAAATACACGACATCCATTGCACCCCCCCCAGACAAATTGGAATCCAGAGCCAGATTGGCGCAAAGATCGGGCGTGCCCAATGGTCGTACCATCCTTTCAGGTTTCGTGCCCGAAATGAAGCGGTGCATTATGACGAACTATCCAGTTTTCTTCGGGGGCTCGTAGTAAAATATTACTGGCCGCAAATCGAATCGGAGAGTGACTAAGAGATCAGCACTGGGGGATCGTTGAGTGTCATGGCGACCAGTCCAGTTTGTACCTTCAACGGTGAGATTAGTTTCGGAGCTGGACCCCTCCGGAAACAAACCTCCTTCTCGGTTGGTTACGATAGGACGGACCTCGGACCAGAAAATGAGTATTCAGATTTTTGAAGGGTACGCGGTATGTTTACCGTACTTCAACCCCGTCTACAAACGGTCGCTGCCAGAAACTA\" }"
      ]
     },
     "execution_count": 38,
     "metadata": {},
     "output_type": "execute_result"
    }
   ],
   "source": [
    "data[0].longest_subsequence(&data[1])"
   ]
  },
  {
   "cell_type": "code",
   "execution_count": null,
   "id": "eae57049-5105-4849-b590-c8f27bdd1784",
   "metadata": {},
   "outputs": [],
   "source": []
  }
 ],
 "metadata": {
  "kernelspec": {
   "display_name": "Rust",
   "language": "rust",
   "name": "rust"
  },
  "language_info": {
   "codemirror_mode": "rust",
   "file_extension": ".rs",
   "mimetype": "text/rust",
   "name": "Rust",
   "pygment_lexer": "rust",
   "version": ""
  }
 },
 "nbformat": 4,
 "nbformat_minor": 5
}
