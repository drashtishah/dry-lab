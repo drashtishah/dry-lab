{
 "cells": [
  {
   "cell_type": "markdown",
   "id": "28b1539a-4284-481a-8b96-52ee188bd8d7",
   "metadata": {},
   "source": [
    "# Counting Point Mutations\n",
    "\n",
    "Link: https://rosalind.info/problems/hamm/"
   ]
  },
  {
   "cell_type": "code",
   "execution_count": 9,
   "id": "3b19a096-981c-4aff-8808-5363a86aca20",
   "metadata": {},
   "outputs": [],
   "source": [
    "#[derive(Debug)] \n",
    "pub struct DNASeq {\n",
    "    seq: String,\n",
    "}\n",
    "\n",
    "impl DNASeq {\n",
    "    \n",
    "    fn equal_length(&self, other: &DNASeq) -> bool {\n",
    "        self.seq.len() == other.seq.len()\n",
    "    }\n",
    "    \n",
    "    fn hamming_distance(&self, other: &DNASeq) -> Option<i32> {\n",
    "        if self.equal_length(other) {\n",
    "            let mut distance = 0;\n",
    "            let zipped = self.seq.chars().zip(other.seq.chars());\n",
    "            for (x, y) in zipped {\n",
    "                if x != y {\n",
    "                    distance += 1;\n",
    "                }\n",
    "            }\n",
    "        Some(distance)\n",
    "        } else {\n",
    "            return None;\n",
    "        }\n",
    "    }\n",
    "    \n",
    "}"
   ]
  },
  {
   "cell_type": "code",
   "execution_count": 17,
   "id": "ba56282b-58e5-4dd4-b764-f47724f94e9d",
   "metadata": {},
   "outputs": [],
   "source": [
    "let seq_1 = DNASeq{seq:\"GCGCGGGTCCACCCGCCGGCGGAATTTATAGAAACTTGTTTGAGCATTCATTAAACGTGTTTTACGGCTTAATAGATAAATCTATAACATGCCTATTAACCTGGCTGAGCGCTTAAGAGTCTGTCTTTTGTATTTTTCGCTGATCACTCGACAGTCACGTAAGAGTACTCTTCTTCCATACCAAATAAAATAAGTATTAATCCCGCTAGGCCAGATTTTGAGGGTCCTGCCGGTCGACCTGAAAGGTGGTGTAAATGAAAGCCATGAGAGCAAGTTCTCGGGTGTTGCACTAAGGCGGGATATTTAATGGGCGTTTGAGTAGGGGGGCCTTAGGTGATTACTCGGCCGATTTTTGCGAGCTCAGCATCGAGCTGTATTTAACGTCAGATATTGGACAGTCCTTCGTAATCGCCCCTTGTCTTGCTGTTGTACTCCAAGGGGCCAAGCATACTTTGGAATATTGAACTCAGATAAATGTCGCCCACTCTGGTGAGCAGCACCACATGGCAATCACAAACTTGGCGCTACAGCAAAGAGGCTCAAACTGCCTCCCGAGCGGCAAAGCAACATGCCTCTTGTCGCGCAATGGGATAGAACGGAGAAAGTAGTGTCGCGAAGATCCGATATCGAGTGGGCATTCAAGGATAGGACCGGCACAAGAGGAACGTACATTATCGAGTTTCCGCAGTCGATAAAATCGTCACCATGATTCATATATGACCCCTTACGCCGGAGATTCGATACGCTCAGTGTCCCCGGTTCCCTGCTAACTACCCAGATTCATGGTTTTATCACGCACTATTCCGCGTGTATCGGCGTCTGTAAGGCCGGAAGCGTGCGGATTGCTAATGGTCCTCCAAGCCGAGCGCGGACAGAACAGATGCACGTACGCGAGAGAGGGACTTAAGGAACCACATCCCGGGTGGCTCGGGTCTCCTGTCCTCT\".to_string()};\n",
    "let seq_2 = DNASeq{seq:\"CCGCAGCTTGGGGAGCCGGCTCACAGGATAGGAAGTGGTGTGACATTTCGTGAGATGCCTGTGAAGCTTATAAGTACACTTTTAAGACTGGTACAATACACTTGCTGGGCGAATAACTGTCAGTAAACTGTGCTACCACGACTACATTAAACCGACCGTGTAGAACAGGGTTCTTTCTTTTATAGTCTTGTAAGGTTTAATGAAAATAGGCCATAGAAGGAATGTCAAATCATGTGTATAGATAAACGGTGTACCGCGAAGAAGTCAAGTTATGGATGGGGGTGTTTCATTAGAGCGTAGAGTTAAAATCGCGTCAGGGTAGGGAGTCTGGAGGAGATTAATGCTGGGATATTTATTCACTAAGCGCGTATCAGAATTTTCTGCCAACTGTCAGGCGGGCTTCTGGCGTACCCGTGTGTGTTGCTAGAGTTATTGTATGCTCTAGACATATGCCTCCATAGCCAACTACGAGAAAGATCCCACCTCGTAGTGTGTATAAACCCGTAGAACTTACGAACTTGGTTGTACGCGAAGATCGTCCCGCGTGCTCTCGGCGGGTTATAGGCTCACGCAACGTCCAGGGCAACGAACGAGACCGGTCGGAGAAGTTTACCCACTAGACGATTGCTTGGTGGTGTCTCACGGACGGAACCTTGCGCGAGGAAAGGAGATGTTCCAGTCTAAGAAGTCGAGACCGTGGAGCCCATCAGTCCTATGGGGCCCTAATGGGCGTTCTTAACGCACTCCAGAGGCGTGGGCTTCCATACGAATTTGCGCGAATCACGGTTTTATATCGCATTCTGCTGAAAGAAGCATTGCGTCTACGGTCATATGCTCTCGCAGTGCTATTTACCCTTCATACCTGGGTCTGATGCGACAGCCACCCGTAAGACATAGATGACTATCTCGAACGTCACGTCCCAATGAATGAATCTCCTGGCGTCT\".to_string()};"
   ]
  },
  {
   "cell_type": "code",
   "execution_count": 18,
   "id": "c21a52cb-7ca1-4231-b3dd-8ed58ba6fca8",
   "metadata": {},
   "outputs": [
    {
     "data": {
      "text/plain": [
       "Some(478)"
      ]
     },
     "execution_count": 18,
     "metadata": {},
     "output_type": "execute_result"
    }
   ],
   "source": [
    "seq_1.hamming_distance(&seq_2)"
   ]
  }
 ],
 "metadata": {
  "kernelspec": {
   "display_name": "Rust",
   "language": "rust",
   "name": "rust"
  },
  "language_info": {
   "codemirror_mode": "rust",
   "file_extension": ".rs",
   "mimetype": "text/rust",
   "name": "Rust",
   "pygment_lexer": "rust",
   "version": ""
  }
 },
 "nbformat": 4,
 "nbformat_minor": 5
}
