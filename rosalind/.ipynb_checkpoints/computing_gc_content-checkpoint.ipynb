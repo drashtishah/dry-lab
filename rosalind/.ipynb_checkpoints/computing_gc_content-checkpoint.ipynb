{
 "cells": [
  {
   "cell_type": "markdown",
   "id": "fe38bcf4-f79a-4aa3-91c6-e87c29fe22ad",
   "metadata": {},
   "source": [
    "# Computing GC Content\n",
    "\n",
    "Link: https://rosalind.info/problems/gc/"
   ]
  },
  {
   "cell_type": "code",
   "execution_count": 2,
   "id": "22a321bd-94be-41f6-821c-6d58f22e70f0",
   "metadata": {},
   "outputs": [],
   "source": [
    "use std::fs::File;\n",
    "use std::io::{BufReader, BufRead};\n",
    "use std::collections::HashMap;"
   ]
  },
  {
   "cell_type": "code",
   "execution_count": 3,
   "id": "fa6d443b-f867-48fd-bcd4-1a06a201dec7",
   "metadata": {},
   "outputs": [],
   "source": [
    "#[derive(Debug)] \n",
    "pub struct DNASeq {\n",
    "    seq: String,\n",
    "}\n",
    "\n",
    "impl DNASeq {\n",
    "    \n",
    "    fn push_str(&mut self, s: &str) {\n",
    "        self.seq.push_str(s);\n",
    "    }\n",
    "    \n",
    "    fn gc_content(&self) -> f64 {\n",
    "        let counts = self.count_nucleotides();\n",
    "        let cg = counts.get(&'C').unwrap() + counts.get(&'G').unwrap();\n",
    "        (cg as f64 / self.seq.len() as f64) * 100.0\n",
    "    }\n",
    "    \n",
    "    fn count_nucleotides(&self) -> HashMap<char, usize> {\n",
    "        let mut map = HashMap::new();\n",
    "        let things = vec!['A', 'C', 'G', 'T'];\n",
    "        for character in self.seq.chars() {\n",
    "            if things.contains(&character) {\n",
    "                // entry returns the value in key, value pair is key exists\n",
    "                // count is a mutable reference\n",
    "                let count = map.entry(character).or_insert(0);\n",
    "                // so we need to dereference it\n",
    "                *count += 1;\n",
    "            }\n",
    "        }\n",
    "        map\n",
    "    }\n",
    "    \n",
    "}"
   ]
  },
  {
   "cell_type": "code",
   "execution_count": 4,
   "id": "eb1731e7-1ccc-41a3-b295-7843aff908b3",
   "metadata": {},
   "outputs": [],
   "source": [
    "fn read_fasta(file_path: &str) -> HashMap<String, DNASeq> {\n",
    "    let mut data = HashMap::new();\n",
    "    let file = File::open(file_path).expect(\"Invalid filepath\");\n",
    "    let reader = BufReader::new(file);\n",
    "    \n",
    "    let mut seq_id = String::new();\n",
    "    for line in reader.lines() {\n",
    "        let line = line.unwrap();\n",
    "        if line.starts_with('>') {\n",
    "            seq_id = line.trim_start_matches('>').to_string();\n",
    "        } else {\n",
    "            data.entry(seq_id.clone()).or_insert(DNASeq {seq: \"\".to_string() }).push_str(&line);\n",
    "        }\n",
    "    }\n",
    "    \n",
    "    data\n",
    "}"
   ]
  },
  {
   "cell_type": "code",
   "execution_count": 20,
   "id": "69e2348c-d279-4954-9435-3b370f9a4fe5",
   "metadata": {},
   "outputs": [
    {
     "data": {
      "text/plain": [
       "(\"Rosalind_5158\", 51.09489051094891)"
      ]
     },
     "execution_count": 20,
     "metadata": {},
     "output_type": "execute_result"
    }
   ],
   "source": [
    "let data = read_fasta(\"data/rosalind_gc.txt\");\n",
    "\n",
    "{\n",
    "    let mut id_of_max_value = \"\";\n",
    "    let mut max_value = 0 as f64;\n",
    "\n",
    "    for (seq_id, seq) in data.iter() {\n",
    "        let current_gc_content = seq.gc_content();\n",
    "        if current_gc_content > max_value {\n",
    "            max_value = current_gc_content;\n",
    "            id_of_max_value = seq_id;\n",
    "        }\n",
    "    }\n",
    "\n",
    "    (id_of_max_value, max_value)\n",
    "}"
   ]
  },
  {
   "cell_type": "code",
   "execution_count": null,
   "id": "16e4890d-b9d7-4b58-8b85-cb0e04fd3533",
   "metadata": {},
   "outputs": [],
   "source": []
  }
 ],
 "metadata": {
  "kernelspec": {
   "display_name": "Rust",
   "language": "rust",
   "name": "rust"
  },
  "language_info": {
   "codemirror_mode": "rust",
   "file_extension": ".rs",
   "mimetype": "text/rust",
   "name": "Rust",
   "pygment_lexer": "rust",
   "version": ""
  }
 },
 "nbformat": 4,
 "nbformat_minor": 5
}
