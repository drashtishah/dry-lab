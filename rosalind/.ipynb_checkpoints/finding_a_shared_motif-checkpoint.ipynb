{
 "cells": [
  {
   "cell_type": "markdown",
   "id": "6231842b-c3c7-40a3-8b5a-4014d9ef7149",
   "metadata": {},
   "source": [
    "# Finding a Shared Motif\n",
    "\n",
    "Link: https://rosalind.info/problems/lcsm/"
   ]
  },
  {
   "cell_type": "code",
   "execution_count": 43,
   "id": "138b40f4-2ca7-47eb-84d8-f0500fc23653",
   "metadata": {},
   "outputs": [],
   "source": [
    "use std::fs::File;\n",
    "use std::io::{BufReader, BufRead};\n",
    "use std::collections::{HashMap, HashSet};"
   ]
  },
  {
   "cell_type": "code",
   "execution_count": 45,
   "id": "901a4bff-e561-4a78-a49b-63a048d11e81",
   "metadata": {},
   "outputs": [],
   "source": [
    "#[derive(Debug, Clone)] \n",
    "pub struct DNASeq {\n",
    "    seq: String,\n",
    "}\n",
    "\n",
    "impl DNASeq {\n",
    "    \n",
    "    fn contains(&self, other: &Self) -> bool {\n",
    "        self.seq.contains(&other.seq)\n",
    "    }\n",
    "    \n",
    "    fn push_str(&mut self, s: &str) {\n",
    "        self.seq.push_str(s);\n",
    "    }\n",
    "    \n",
    "    fn len(&self) -> usize {\n",
    "        self.seq.len()\n",
    "    }\n",
    "    \n",
    "    fn substrings(&self) -> Vec<Self> {\n",
    "        let mut substring_list: Vec<Self> = vec![self.clone()];\n",
    "        for i in 1..self.len()-1 {\n",
    "            substring_list.push(Self{seq: self.seq[i..].to_string()});\n",
    "        }\n",
    "        substring_list\n",
    "    }    \n",
    "}\n",
    "\n",
    "impl PartialEq for DNASeq {\n",
    "    fn eq(&self, other: &Self) -> bool {\n",
    "        self.seq == other.seq\n",
    "    }\n",
    "}"
   ]
  },
  {
   "cell_type": "code",
   "execution_count": 46,
   "id": "724579cc-77d5-494c-93e3-44070b88bdce",
   "metadata": {},
   "outputs": [],
   "source": [
    "fn read_fasta(file_path: &str) -> HashMap<String, DNASeq> {\n",
    "    let mut data = HashMap::new();\n",
    "    let file = File::open(file_path).expect(\"Invalid filepath\");\n",
    "    let reader = BufReader::new(file);\n",
    "    \n",
    "    let mut seq_id = String::new();\n",
    "    for line in reader.lines() {\n",
    "        let line = line.unwrap();\n",
    "        if line.starts_with('>') {\n",
    "            seq_id = line.trim_start_matches('>').to_string();\n",
    "        } else {\n",
    "            data.entry(seq_id.clone()).or_insert(DNASeq {seq: \"\".to_string() }).push_str(&line);\n",
    "        }\n",
    "    }\n",
    "    \n",
    "    data\n",
    "}"
   ]
  },
  {
   "cell_type": "code",
   "execution_count": 51,
   "id": "b66288a8-0e92-4dc8-bacc-03530c452d8c",
   "metadata": {},
   "outputs": [
    {
     "data": {
      "text/plain": [
       "{\"ACA\", \"CA\", \"TACA\"}"
      ]
     },
     "execution_count": 51,
     "metadata": {},
     "output_type": "execute_result"
    }
   ],
   "source": [
    "let data: HashMap<String, DNASeq> = read_fasta(\"data/rosalind_lcsm.txt\");\n",
    "let mut result: HashSet<String> = HashSet::new();\n",
    "let mut shortest_seq = DNASeq{seq: \"\".to_string()};\n",
    "let mut min_length = std::f64::INFINITY;\n",
    "\n",
    "for (_, seq) in data.iter() {\n",
    "    let current_length = seq.len() as f64;\n",
    "    if current_length < min_length {\n",
    "        min_length = current_length;\n",
    "        shortest_seq = seq.clone();\n",
    "    }\n",
    "}\n",
    "\n",
    "let substring_list = shortest_seq.substrings();\n",
    "\n",
    "for motif in substring_list.iter() {\n",
    "    for (_, dna_seq) in data.iter() {\n",
    "        if dna_seq != motif {\n",
    "            if dna_seq.contains(motif) {\n",
    "                \n",
    "            }\n",
    "        }\n",
    "    }\n",
    "    result.insert(motif.seq.clone());\n",
    "}\n",
    "\n",
    "result"
   ]
  },
  {
   "cell_type": "code",
   "execution_count": null,
   "id": "de433cff-3966-473b-889a-425513c57a18",
   "metadata": {},
   "outputs": [],
   "source": []
  },
  {
   "cell_type": "code",
   "execution_count": null,
   "id": "f0973a0d-598d-46c5-8b49-d6d94902c5a2",
   "metadata": {},
   "outputs": [],
   "source": []
  },
  {
   "cell_type": "code",
   "execution_count": null,
   "id": "16c7114c-518b-4165-94d4-b959bdc5b62f",
   "metadata": {},
   "outputs": [],
   "source": []
  }
 ],
 "metadata": {
  "kernelspec": {
   "display_name": "Rust",
   "language": "rust",
   "name": "rust"
  },
  "language_info": {
   "codemirror_mode": "rust",
   "file_extension": ".rs",
   "mimetype": "text/rust",
   "name": "Rust",
   "pygment_lexer": "rust",
   "version": ""
  }
 },
 "nbformat": 4,
 "nbformat_minor": 5
}
