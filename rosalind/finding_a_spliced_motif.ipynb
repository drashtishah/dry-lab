{
 "cells": [
  {
   "cell_type": "markdown",
   "id": "f512b915-239e-4d73-b394-a7fee09b7069",
   "metadata": {},
   "source": [
    "# Finding a Spliced Motif\n",
    "\n",
    "Link: https://rosalind.info/problems/sseq/"
   ]
  },
  {
   "cell_type": "code",
   "execution_count": 169,
   "id": "8cd4a69f-10e0-4ef8-bf88-ded956625d54",
   "metadata": {},
   "outputs": [],
   "source": [
    "use std::fs::File;\n",
    "use std::io::{BufReader, BufRead};\n",
    "use std::collections::{HashMap, HashSet};"
   ]
  },
  {
   "cell_type": "code",
   "execution_count": 170,
   "id": "6f80837b-008f-438a-aba0-405574149e52",
   "metadata": {},
   "outputs": [],
   "source": [
    "#[derive(Debug, Clone)] \n",
    "struct DNASeq {\n",
    "    seq: String,\n",
    "}\n",
    "\n",
    "impl DNASeq {\n",
    "    \n",
    "    fn len(&self) -> usize {\n",
    "        self.seq.len()\n",
    "    }\n",
    "    \n",
    "    fn push_str(&mut self, s: &str) {\n",
    "        self.seq.push_str(s);\n",
    "    }\n",
    "    \n",
    "    fn subsequence(&self, other: &Self) -> Vec<Vec<usize>> {\n",
    "        let mut seq_map = HashMap::new();\n",
    "\n",
    "        for x in [\"A\", \"C\", \"T\", \"G\"] {\n",
    "            let indices: Vec<_> = self.seq.match_indices(x).map(|a| a.0).collect();\n",
    "            seq_map.insert(x, indices);\n",
    "        }\n",
    "        \n",
    "        let first_base = seq_map.get(&other.seq[..1]).unwrap();\n",
    "        let mut result = vec![];\n",
    "        \n",
    "        for x in first_base.iter() { \n",
    "            let mut sub = vec![];\n",
    "            sub.push(x.clone()); // x is start of the subsequence\n",
    "            for a in other.seq[1..].chars() { // a represents anything except the start\n",
    "                let next_base = seq_map.get(&*a.to_string()).unwrap();\n",
    "                for y in next_base.iter() {\n",
    "                    if y > &sub[sub.len()-1] {\n",
    "                        sub.push(y.clone());\n",
    "                        break;\n",
    "                    }\n",
    "                }\n",
    "                \n",
    "            }\n",
    "            if sub.len() == other.seq.len() {\n",
    "                sub = sub.into_iter().map(|x| x + 1).collect(); // assume index starts at 1 instead of 0\n",
    "                result.push(sub);\n",
    "            }\n",
    "        }\n",
    "        \n",
    "        result\n",
    "        \n",
    "    }\n",
    "    \n",
    "}"
   ]
  },
  {
   "cell_type": "code",
   "execution_count": 171,
   "id": "001c79cf-9415-42f0-a9c8-8372151ae6b6",
   "metadata": {},
   "outputs": [],
   "source": [
    "fn read_fasta(file_path: &str) -> HashMap<String, DNASeq> {\n",
    "    let mut data = HashMap::new();\n",
    "    let file = File::open(file_path).expect(\"Invalid filepath\");\n",
    "    let reader = BufReader::new(file);\n",
    "    \n",
    "    let mut seq_id = String::new();\n",
    "    for line in reader.lines() {\n",
    "        let line = line.unwrap();\n",
    "        if line.starts_with('>') {\n",
    "            seq_id = line.trim_start_matches('>').to_string();\n",
    "        } else {\n",
    "            data.entry(seq_id.clone()).or_insert(DNASeq {seq: \"\".to_string() }).push_str(&line);\n",
    "        }\n",
    "    }\n",
    "    \n",
    "    data\n",
    "}"
   ]
  },
  {
   "cell_type": "code",
   "execution_count": 179,
   "id": "f89757e6-87b8-4ee5-b61a-c4becf0c0268",
   "metadata": {},
   "outputs": [],
   "source": [
    "let data: HashMap<String, DNASeq> = read_fasta(\"data/rosalind_sseq.txt\");\n",
    "let data: Vec<DNASeq> = data.into_values().collect();"
   ]
  },
  {
   "cell_type": "code",
   "execution_count": 180,
   "id": "90035ee6-bd6a-4cf5-ad7a-07f7ff83b188",
   "metadata": {},
   "outputs": [
    {
     "data": {
      "text/plain": [
       "()"
      ]
     },
     "execution_count": 180,
     "metadata": {},
     "output_type": "execute_result"
    }
   ],
   "source": [
    "let seq_1: DNASeq = data[0].clone();\n",
    "let seq_2: DNASeq = data[1].clone();\n",
    "let output;\n",
    "\n",
    "if seq_1.len() > seq_2.len() {\n",
    "    output = seq_1.subsequence(&seq_2);\n",
    "} else {\n",
    "    output = seq_2.subsequence(&seq_1)\n",
    "}"
   ]
  },
  {
   "cell_type": "code",
   "execution_count": 181,
   "id": "7a44eab0-4e74-478c-ac74-8c0ebb65bbb2",
   "metadata": {},
   "outputs": [
    {
     "name": "stdout",
     "output_type": "stream",
     "text": [
      "4\n",
      "11\n",
      "15\n",
      "17\n",
      "19\n",
      "22\n",
      "26\n",
      "34\n",
      "39\n",
      "42\n",
      "43\n",
      "45\n",
      "47\n",
      "56\n",
      "64\n",
      "66\n"
     ]
    },
    {
     "data": {
      "text/plain": [
       "()"
      ]
     },
     "execution_count": 181,
     "metadata": {},
     "output_type": "execute_result"
    }
   ],
   "source": [
    "for x in output[0].iter() {\n",
    "    println!{\"{}\", x};\n",
    "}"
   ]
  },
  {
   "cell_type": "code",
   "execution_count": null,
   "id": "569462bf-7934-47a8-8920-19547ec6e62d",
   "metadata": {},
   "outputs": [],
   "source": []
  }
 ],
 "metadata": {
  "kernelspec": {
   "display_name": "Rust",
   "language": "rust",
   "name": "rust"
  },
  "language_info": {
   "codemirror_mode": "rust",
   "file_extension": ".rs",
   "mimetype": "text/rust",
   "name": "Rust",
   "pygment_lexer": "rust",
   "version": ""
  }
 },
 "nbformat": 4,
 "nbformat_minor": 5
}
