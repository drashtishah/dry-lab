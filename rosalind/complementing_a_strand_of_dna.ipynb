{
 "cells": [
  {
   "cell_type": "markdown",
   "id": "369e51dc-81ec-4316-9571-659df8875d0d",
   "metadata": {},
   "source": [
    "# Complementing a Strand of DNA\n",
    "\n",
    "Link: https://rosalind.info/problems/revc/"
   ]
  },
  {
   "cell_type": "code",
   "execution_count": 3,
   "id": "68e6282e-86e9-4583-8106-7f421f3a734a",
   "metadata": {},
   "outputs": [],
   "source": [
    "#[derive(Debug)] \n",
    "pub struct DNASeq {\n",
    "    seq: String,\n",
    "}\n",
    "\n",
    "impl DNASeq {\n",
    "    \n",
    "    pub fn reverse(&self) -> DNASeq {\n",
    "        let seq = self.seq.chars().rev().collect();\n",
    "        DNASeq { seq }\n",
    "    }\n",
    "    \n",
    "    pub fn complement(&self) -> DNASeq {\n",
    "        let seq = self.seq.chars()\n",
    "            .map(|x| match x {\n",
    "                'A' => 'T',\n",
    "                'T' => 'A',\n",
    "                'G' => 'C',\n",
    "                'C' => 'G',\n",
    "                _ => x,\n",
    "            })\n",
    "            .collect();\n",
    "        DNASeq { seq }\n",
    "    }\n",
    "}"
   ]
  },
  {
   "cell_type": "code",
   "execution_count": 7,
   "id": "5f4b1011-459c-4882-8cc3-4cc5cb4213e0",
   "metadata": {},
   "outputs": [
    {
     "data": {
      "text/plain": [
       "DNASeq { seq: \"CGTTCGGACCATCAACGATCAAAACAGACTTTACGCATTGGTCCCGGCTCGGGAAGTAGGATGTAATAAGTTAAACCCTCGGTCTTATTATACATATGCGGGGCTTGGTTGTAAATCCGTTCGAAACTGAGTAGCTGTGATATCTGGAATGAAGTCGAGCATACAGCCATGTCACATAGTTGCAACTTCCAAAAGTTAAACTACCTACAGTGTCTGGACTTTGAGGGAAAATAGAAGCATGTTTTCTGAGTTCTGGAGAAATAACCTGACGCTATAAGAGACCGTTTCGGTTCCCCTATAAAGCGTGCGTGTGAAAGGGCGTTTACCGGCTTTCCCGCAATACAAAATATGCCCTCCGTCCACCGACTGATAGAAATCGATCATCAGCCCTAAGAGAGCTAGTTCGGCTCAATTTCGTTCTTAAAGAACCTGGCATTCCGTGTTAAGAGATCGACGTCTTCAGACGAACGCTGGGGCTAGTTCGAGTTCATTTAGGTTCCTTAGACTTCGTCCCTCCAGATTCAATGAAGCTTCATTCCGCATGGTCATCGCTACCCAGGTAGGCCAGAGGATCCATCTGCAGTAGTTGAGGTGCGCCTGTTGTGGGCGGAACCACACACAGCCTTGATAAACTTCCGGCTCCCAGCATGTAGCCGTGTCGCTACAGCGCGTTCATTTATGCAGACGTCATGTGATAGATTACAAGGTGCTCGCATGCAAGTACATAAGACTGGCAAAACTTGAGGGTCGCGTAAGTATGTCTCTTACGCAACCGGGACGACTAGCTGCTACTTGTCTGACTCCGCAAATCTCCTGCA\" }"
      ]
     },
     "execution_count": 7,
     "metadata": {},
     "output_type": "execute_result"
    }
   ],
   "source": [
    "let dna_sequence = DNASeq { seq: \"TGCAGGAGATTTGCGGAGTCAGACAAGTAGCAGCTAGTCGTCCCGGTTGCGTAAGAGACATACTTACGCGACCCTCAAGTTTTGCCAGTCTTATGTACTTGCATGCGAGCACCTTGTAATCTATCACATGACGTCTGCATAAATGAACGCGCTGTAGCGACACGGCTACATGCTGGGAGCCGGAAGTTTATCAAGGCTGTGTGTGGTTCCGCCCACAACAGGCGCACCTCAACTACTGCAGATGGATCCTCTGGCCTACCTGGGTAGCGATGACCATGCGGAATGAAGCTTCATTGAATCTGGAGGGACGAAGTCTAAGGAACCTAAATGAACTCGAACTAGCCCCAGCGTTCGTCTGAAGACGTCGATCTCTTAACACGGAATGCCAGGTTCTTTAAGAACGAAATTGAGCCGAACTAGCTCTCTTAGGGCTGATGATCGATTTCTATCAGTCGGTGGACGGAGGGCATATTTTGTATTGCGGGAAAGCCGGTAAACGCCCTTTCACACGCACGCTTTATAGGGGAACCGAAACGGTCTCTTATAGCGTCAGGTTATTTCTCCAGAACTCAGAAAACATGCTTCTATTTTCCCTCAAAGTCCAGACACTGTAGGTAGTTTAACTTTTGGAAGTTGCAACTATGTGACATGGCTGTATGCTCGACTTCATTCCAGATATCACAGCTACTCAGTTTCGAACGGATTTACAACCAAGCCCCGCATATGTATAATAAGACCGAGGGTTTAACTTATTACATCCTACTTCCCGAGCCGGGACCAATGCGTAAAGTCTGTTTTGATCGTTGATGGTCCGAACG\".to_string() };\n",
    "dna_sequence.reverse().complement()"
   ]
  },
  {
   "cell_type": "code",
   "execution_count": null,
   "id": "02ba2867-e7b7-4f56-8938-438b802b0613",
   "metadata": {},
   "outputs": [],
   "source": []
  }
 ],
 "metadata": {
  "kernelspec": {
   "display_name": "Rust",
   "language": "rust",
   "name": "rust"
  },
  "language_info": {
   "codemirror_mode": "rust",
   "file_extension": ".rs",
   "mimetype": "text/rust",
   "name": "Rust",
   "pygment_lexer": "rust",
   "version": ""
  }
 },
 "nbformat": 4,
 "nbformat_minor": 5
}
