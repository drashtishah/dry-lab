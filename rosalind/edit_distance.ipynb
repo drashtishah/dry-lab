{
 "cells": [
  {
   "cell_type": "code",
   "execution_count": 2,
   "id": "94609e0b-f956-4e8a-9cd2-0f3cb290adca",
   "metadata": {},
   "outputs": [],
   "source": [
    ":dep ndarray = { version = \"0.15.6\" }"
   ]
  },
  {
   "cell_type": "code",
   "execution_count": 3,
   "id": "0a875c04-db38-45fb-bc99-9ad7ad9d36e3",
   "metadata": {},
   "outputs": [],
   "source": [
    "use std::fs::File;\n",
    "use std::io::{BufReader, BufRead};\n",
    "use std::collections::HashMap;\n",
    "use ndarray::prelude::*;\n",
    "use std::cmp;"
   ]
  },
  {
   "cell_type": "code",
   "execution_count": 8,
   "id": "a3dace93-a602-4d7d-a6a0-a2be5eedc386",
   "metadata": {},
   "outputs": [],
   "source": [
    "#[derive(Debug)] \n",
    "pub struct Protein {\n",
    "    seq: String,\n",
    "}\n",
    "\n",
    "impl Protein {\n",
    "    \n",
    "    fn len(&self) -> usize {\n",
    "        self.seq.len()\n",
    "    }\n",
    "    \n",
    "    fn push_str(&mut self, s: &str) {\n",
    "        self.seq.push_str(s);\n",
    "    }\n",
    "    \n",
    "    fn edit_distance(&self, other: &Self) -> usize {\n",
    "        let matrix = self.edit_distance_matrix(other);\n",
    "        let distance = self.last_element(other, matrix);\n",
    "        distance\n",
    "    }\n",
    "    \n",
    "    fn last_element(&self, other: &Self, matrix: Array2<usize>) -> usize {\n",
    "        matrix[(self.len(), other.len())]\n",
    "    }\n",
    "    \n",
    "    fn edit_distance_matrix(&self, other: &Self) -> Array2<usize> {\n",
    "        let mut seq_1 = self.seq.clone();\n",
    "        seq_1.insert(0, ' ');\n",
    "        let mut seq_2 = other.seq.clone();\n",
    "        seq_2.insert(0, ' ');\n",
    "        let vec_for_array_initialization = vec![0; seq_1.len() * seq_2.len()];\n",
    "        let mut matrix = Array::from_shape_vec((seq_1.len(), seq_2.len()), vec_for_array_initialization).unwrap();\n",
    "        for (i, x) in seq_1.chars().enumerate() {\n",
    "            for (j, y) in seq_2.chars().enumerate() {\n",
    "                if (x == ' ') & (y != ' ') {\n",
    "                    matrix[(i, j)] = j;\n",
    "                } else if (y == ' ') & (x != ' ') {\n",
    "                    matrix[(i, j)] = i;\n",
    "                } else {\n",
    "                    if (x == ' ') & (y == ' ') { continue; }\n",
    "                    else {\n",
    "                        let left = matrix[(i, j-1)];\n",
    "                        let top = matrix[(i-1, j)];\n",
    "                        let diagonal = matrix[(i-1, j-1)];\n",
    "                        let min_value = cmp::min(cmp::min(left, top), diagonal);\n",
    "                        if x == y {\n",
    "                            matrix[(i, j)] = diagonal;\n",
    "                        } else {\n",
    "                            matrix[(i, j)] = min_value + 1;\n",
    "                        } \n",
    "                    }\n",
    "                }\n",
    "            }\n",
    "        }\n",
    "        matrix \n",
    "    }\n",
    "    \n",
    "    \n",
    "}"
   ]
  },
  {
   "cell_type": "code",
   "execution_count": 9,
   "id": "d107a6e5-6e6c-431f-885a-56b8f3e6493b",
   "metadata": {},
   "outputs": [],
   "source": [
    "fn read_fasta(file_path: &str) -> HashMap<String, Protein> {\n",
    "    let mut data = HashMap::new();\n",
    "    let file = File::open(file_path).expect(\"Invalid filepath\");\n",
    "    let reader = BufReader::new(file);\n",
    "    \n",
    "    let mut seq_id = String::new();\n",
    "    for line in reader.lines() {\n",
    "        let line = line.unwrap();\n",
    "        if line.starts_with('>') {\n",
    "            seq_id = line.trim_start_matches('>').to_string();\n",
    "        } else {\n",
    "            data.entry(seq_id.clone()).or_insert(Protein {seq: \"\".to_string() }).push_str(&line);\n",
    "        }\n",
    "    }\n",
    "    \n",
    "    data\n",
    "}"
   ]
  },
  {
   "cell_type": "code",
   "execution_count": 12,
   "id": "47689bc0-03ba-4883-addf-861969132f4a",
   "metadata": {},
   "outputs": [],
   "source": [
    "let data: HashMap<String, Protein> = read_fasta(\"data/rosalind_edit.txt\");\n",
    "let data: Vec<Protein> = data.into_values().collect();"
   ]
  },
  {
   "cell_type": "code",
   "execution_count": 13,
   "id": "e725dc7a-1b9c-4d14-b37e-51d24f415994",
   "metadata": {},
   "outputs": [
    {
     "data": {
      "text/plain": [
       "330"
      ]
     },
     "execution_count": 13,
     "metadata": {},
     "output_type": "execute_result"
    }
   ],
   "source": [
    "data[0].edit_distance(&data[1])"
   ]
  },
  {
   "cell_type": "code",
   "execution_count": null,
   "id": "2f7b2ff1-9b84-4bbb-b8e5-064f89cb9d7d",
   "metadata": {},
   "outputs": [],
   "source": []
  }
 ],
 "metadata": {
  "kernelspec": {
   "display_name": "Rust",
   "language": "rust",
   "name": "rust"
  },
  "language_info": {
   "codemirror_mode": "rust",
   "file_extension": ".rs",
   "mimetype": "text/rust",
   "name": "Rust",
   "pygment_lexer": "rust",
   "version": ""
  }
 },
 "nbformat": 4,
 "nbformat_minor": 5
}
