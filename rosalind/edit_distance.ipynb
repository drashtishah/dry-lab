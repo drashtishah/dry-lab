{
 "cells": [
  {
   "cell_type": "markdown",
   "id": "b2b3b8f1-267d-49d9-8703-af6982e7ae5c",
   "metadata": {},
   "source": [
    "# Edit Distance\n",
    "\n",
    "Link: https://rosalind.info/problems/edit/"
   ]
  },
  {
   "cell_type": "code",
   "execution_count": 2,
   "id": "c1191ee3-b413-46f3-8141-fd1cc5688316",
   "metadata": {},
   "outputs": [],
   "source": [
    ":dep ndarray = { version = \"0.15.6\" }"
   ]
  },
  {
   "cell_type": "code",
   "execution_count": 4,
   "id": "758c6f69-4ada-42c1-8e3a-fa0cc78b8ec8",
   "metadata": {},
   "outputs": [],
   "source": [
    "use std::fs::File;\n",
    "use std::io::{BufReader, BufRead};\n",
    "use std::collections::HashMap;\n",
    "use ndarray::prelude::*;\n",
    "use std::cmp;"
   ]
  },
  {
   "cell_type": "code",
   "execution_count": 19,
   "id": "6ab551a4-bc15-4458-9dd3-45f1bafe9b89",
   "metadata": {},
   "outputs": [],
   "source": [
    "#[derive(Debug)] \n",
    "pub struct Protein {\n",
    "    seq: String,\n",
    "}\n",
    "\n",
    "impl Protein {\n",
    "    \n",
    "    fn len(&self) -> usize {\n",
    "        self.seq.len()\n",
    "    }\n",
    "    \n",
    "    fn push_str(&mut self, s: &str) {\n",
    "        self.seq.push_str(s);\n",
    "    }\n",
    "    \n",
    "    fn edit_distance(&self, other: &Self) -> usize {\n",
    "        let matrix = self.edit_distance_matrix(other);\n",
    "        let distance = self.last_element(other, matrix);\n",
    "        distance\n",
    "    }\n",
    "    \n",
    "    fn last_element(&self, other: &Self, matrix: Array2<usize>) -> usize {\n",
    "        matrix[(self.len(), other.len())]\n",
    "    }\n",
    "    \n",
    "    fn edit_distance_matrix(&self, other: &Self) -> Array2<usize> {\n",
    "        let mut seq_1 = self.seq.clone();\n",
    "        seq_1.insert(0, ' ');\n",
    "        let mut seq_2 = other.seq.clone();\n",
    "        seq_2.insert(0, ' ');\n",
    "        let vec_for_array_initialization = vec![0; seq_1.len() * seq_2.len()];\n",
    "        let mut matrix = Array::from_shape_vec((seq_1.len(), seq_2.len()), vec_for_array_initialization).unwrap();\n",
    "        for (i, x) in seq_1.chars().enumerate() {\n",
    "            for (j, y) in seq_2.chars().enumerate() {\n",
    "                if (x == ' ') & (y != ' ') {\n",
    "                    matrix[(i, j)] = j;\n",
    "                } else if (y == ' ') & (x != ' ') {\n",
    "                    matrix[(i, j)] = i;\n",
    "                } else {\n",
    "                    if (x == ' ') & (y == ' ') { continue; }\n",
    "                    else {\n",
    "                        let left = matrix[(i, j-1)];\n",
    "                        let top = matrix[(i-1, j)];\n",
    "                        let diagonal = matrix[(i-1, j-1)];\n",
    "                        let min_value = cmp::min(cmp::min(left, top), diagonal);\n",
    "                        if x == y {\n",
    "                            matrix[(i, j)] = min_value;\n",
    "                        } else {\n",
    "                            matrix[(i, j)] = min_value + 1;\n",
    "                        } \n",
    "                    }\n",
    "                }\n",
    "            }\n",
    "        }\n",
    "        println!(\"{:?}\", matrix);\n",
    "        matrix \n",
    "    }\n",
    "    \n",
    "    \n",
    "}"
   ]
  },
  {
   "cell_type": "code",
   "execution_count": 20,
   "id": "40f25f80-329a-4544-b29f-c894385d26dd",
   "metadata": {},
   "outputs": [],
   "source": [
    "fn read_fasta(file_path: &str) -> HashMap<String, Protein> {\n",
    "    let mut data = HashMap::new();\n",
    "    let file = File::open(file_path).expect(\"Invalid filepath\");\n",
    "    let reader = BufReader::new(file);\n",
    "    \n",
    "    let mut seq_id = String::new();\n",
    "    for line in reader.lines() {\n",
    "        let line = line.unwrap();\n",
    "        if line.starts_with('>') {\n",
    "            seq_id = line.trim_start_matches('>').to_string();\n",
    "        } else {\n",
    "            data.entry(seq_id.clone()).or_insert(Protein {seq: \"\".to_string() }).push_str(&line);\n",
    "        }\n",
    "    }\n",
    "    \n",
    "    data\n",
    "}"
   ]
  },
  {
   "cell_type": "code",
   "execution_count": 21,
   "id": "84dd3ef5-db85-4725-ae60-daab397c1730",
   "metadata": {},
   "outputs": [],
   "source": [
    "let data: HashMap<String, Protein> = read_fasta(\"data/rosalind_edit.txt\");\n",
    "let data: Vec<Protein> = data.into_values().collect();"
   ]
  },
  {
   "cell_type": "code",
   "execution_count": 23,
   "id": "7e0aa460-15f7-4cec-bac1-a7ce1d9ef866",
   "metadata": {},
   "outputs": [
    {
     "name": "stdout",
     "output_type": "stream",
     "text": [
      "[[0, 1, 2, 3, 4, 5, 6, 7, 8, 9, 10],\n",
      " [1, 1, 2, 3, 4, 5, 6, 7, 8, 9, 10],\n",
      " [2, 2, 2, 2, 3, 4, 5, 6, 7, 8, 9],\n",
      " [3, 3, 3, 3, 2, 3, 3, 4, 5, 6, 7],\n",
      " [4, 4, 4, 4, 3, 3, 4, 3, 4, 5, 6],\n",
      " [5, 5, 4, 5, 4, 4, 4, 4, 4, 4, 5],\n",
      " [6, 6, 5, 5, 5, 5, 5, 5, 5, 5, 4]], shape=[7, 11], strides=[11, 1], layout=Cc (0x5), const ndim=2\n"
     ]
    },
    {
     "data": {
      "text/plain": [
       "4"
      ]
     },
     "execution_count": 23,
     "metadata": {},
     "output_type": "execute_result"
    }
   ],
   "source": [
    "data[0].edit_distance(&data[1])"
   ]
  },
  {
   "cell_type": "code",
   "execution_count": null,
   "id": "17727098-712c-408c-919d-941abe7f5f5e",
   "metadata": {},
   "outputs": [],
   "source": []
  }
 ],
 "metadata": {
  "kernelspec": {
   "display_name": "Rust",
   "language": "rust",
   "name": "rust"
  },
  "language_info": {
   "codemirror_mode": "rust",
   "file_extension": ".rs",
   "mimetype": "text/rust",
   "name": "Rust",
   "pygment_lexer": "rust",
   "version": ""
  }
 },
 "nbformat": 4,
 "nbformat_minor": 5
}
