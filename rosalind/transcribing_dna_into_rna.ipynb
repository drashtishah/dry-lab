{
 "cells": [
  {
   "cell_type": "markdown",
   "id": "b3a272b4-f28d-4897-b56d-897daca35841",
   "metadata": {},
   "source": [
    "# Transcribing DNA into RNA\n",
    "\n",
    "Link: https://rosalind.info/problems/rna/"
   ]
  },
  {
   "cell_type": "code",
   "execution_count": 10,
   "id": "7c24a384-9a5f-4cf4-9a16-0b66b3ab2264",
   "metadata": {},
   "outputs": [],
   "source": [
    "// Define a struct for RNA sequences\n",
    "// Add debug trait to a custom type to display using the {:?} syntax\n",
    "#[derive(Debug)] \n",
    "pub struct RNASeq {\n",
    "    seq: String,\n",
    "}\n",
    "\n",
    "// Define a struct for DNA sequences\n",
    "pub struct DNASeq {\n",
    "    seq: String,\n",
    "}\n",
    "\n",
    "// Implement methods for DNA sequences\n",
    "impl DNASeq {\n",
    "    // Define a method to transcribe DNA into RNA\n",
    "    pub fn transcribe(&self) -> RNASeq {\n",
    "        // Replace every 'T' with 'U' in the sequence\n",
    "        let seq = self.seq.chars()\n",
    "            // closures are like lambda functions\n",
    "            .map(|x| match x {\n",
    "                'T' => 'U',\n",
    "                _ => x,\n",
    "            })\n",
    "            .collect(); // This transforms an interator into a collection\n",
    "\n",
    "        // Return a new RNA sequence\n",
    "        RNASeq { seq }\n",
    "    }\n",
    "}"
   ]
  },
  {
   "cell_type": "code",
   "execution_count": 13,
   "id": "989d9d87-f023-48bf-89f8-96a30316ac82",
   "metadata": {},
   "outputs": [
    {
     "data": {
      "text/plain": [
       "RNASeq { seq: \"GCCUACUUAUGCAUUUCCAUUGAUACGCAAACAAUCAUACUCGUUCUGCUUAACUAUUGUAGGGUCCUGGACUGACUCACCCCUAACAACCAAGCUACUUUAUGGAUCUACCACCGGGUCACCUGCCCUCGCUCGGACAACAAGCGUAGCACCUGGGCGGAUCAUAAUAUAUGCUUCUAUUGCUACUUGAUUGGGAGUGACCUCUUAAGCCACCACUAAUGCCGAAGCUAUUGAAUUUUGACAUCAUUCGACAGACGGGUGAUACGGACCUUGGUCGCUUGAACUUGUGCCAGAUGUAAAUUUCAAGGUAACCCUUGACCUGGACUUAUGGAUAGUCUGACGCCCCUGAUCAAUAUUGUGAAGUUUAACCGCGAUUUAAUGCUAGGCGUCCACCCCUCCCCAGCCCUAAGCUGGGAUGCACUGGUGCACAGCAUAAGAUCUUUCCACAGGAGUUUCCUCCGCAAAACGAUUGAGCGAGUCUGAUACUCCAUUCCCAUCAAUUAAUGACCACUUAGGCCUGUAUGCAAGAUCGACGUCGUUGUGCGUGUUGCCUGUUCCGGGUGUGUCCACACGGGAGCCCCAGACCGCCCCACGUGGAGAAGAGGAAGGUAGUUUUCACAAGGCUCCGGGAAGCCCCGCGUGUUUAAAACCAGCAGACUUGAUGUAAGGGUGAGUUGCCACCGCAUCCAGAGUCCCGCAGCCUGAUAUGGAGCGUUAUCCCCACUAGAUCUUGAAAGGGGUAUCCAAUUUUGGCACUGAGUAUCGGGCAGGGUGAUUCAUAAUAUAACAAAUCGGCGUAAGUCUACUGCGCACUUAUGUGUAUAUGCAAACGGACAUAAAGGAACAUUACGAGGAAGCGCGCAGGCAAAUGGUGGAAAGUCAACCCCAAGCUUUAACUCACACCCGGCGAGAGCACGCAAUAGCGUUCGUAUCGGUGGACUGUCUUUUACAGCACCCUGGAGAGGGUUAGGGUAUCCCUCUGUAUCGGUAAGACAUGGAG\" }"
      ]
     },
     "execution_count": 13,
     "metadata": {},
     "output_type": "execute_result"
    }
   ],
   "source": [
    "let dna_sequence = DNASeq{seq: \"GCCTACTTATGCATTTCCATTGATACGCAAACAATCATACTCGTTCTGCTTAACTATTGTAGGGTCCTGGACTGACTCACCCCTAACAACCAAGCTACTTTATGGATCTACCACCGGGTCACCTGCCCTCGCTCGGACAACAAGCGTAGCACCTGGGCGGATCATAATATATGCTTCTATTGCTACTTGATTGGGAGTGACCTCTTAAGCCACCACTAATGCCGAAGCTATTGAATTTTGACATCATTCGACAGACGGGTGATACGGACCTTGGTCGCTTGAACTTGTGCCAGATGTAAATTTCAAGGTAACCCTTGACCTGGACTTATGGATAGTCTGACGCCCCTGATCAATATTGTGAAGTTTAACCGCGATTTAATGCTAGGCGTCCACCCCTCCCCAGCCCTAAGCTGGGATGCACTGGTGCACAGCATAAGATCTTTCCACAGGAGTTTCCTCCGCAAAACGATTGAGCGAGTCTGATACTCCATTCCCATCAATTAATGACCACTTAGGCCTGTATGCAAGATCGACGTCGTTGTGCGTGTTGCCTGTTCCGGGTGTGTCCACACGGGAGCCCCAGACCGCCCCACGTGGAGAAGAGGAAGGTAGTTTTCACAAGGCTCCGGGAAGCCCCGCGTGTTTAAAACCAGCAGACTTGATGTAAGGGTGAGTTGCCACCGCATCCAGAGTCCCGCAGCCTGATATGGAGCGTTATCCCCACTAGATCTTGAAAGGGGTATCCAATTTTGGCACTGAGTATCGGGCAGGGTGATTCATAATATAACAAATCGGCGTAAGTCTACTGCGCACTTATGTGTATATGCAAACGGACATAAAGGAACATTACGAGGAAGCGCGCAGGCAAATGGTGGAAAGTCAACCCCAAGCTTTAACTCACACCCGGCGAGAGCACGCAATAGCGTTCGTATCGGTGGACTGTCTTTTACAGCACCCTGGAGAGGGTTAGGGTATCCCTCTGTATCGGTAAGACATGGAG\".to_string()};\n",
    "dna_sequence.transcribe()"
   ]
  },
  {
   "cell_type": "code",
   "execution_count": null,
   "id": "8c5cd37e-90fe-4795-9e18-fe8cbf933f7b",
   "metadata": {},
   "outputs": [],
   "source": []
  }
 ],
 "metadata": {
  "kernelspec": {
   "display_name": "Rust",
   "language": "rust",
   "name": "rust"
  },
  "language_info": {
   "codemirror_mode": "rust",
   "file_extension": ".rs",
   "mimetype": "text/rust",
   "name": "Rust",
   "pygment_lexer": "rust",
   "version": ""
  }
 },
 "nbformat": 4,
 "nbformat_minor": 5
}
